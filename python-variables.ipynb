{
 "cells": [
  {
   "cell_type": "markdown",
   "id": "b0df3353-e3a3-42f8-a0ce-9908b4a0d3c9",
   "metadata": {},
   "source": [
    "# Q1. Write all the conventions being followed while declaring a variable."
   ]
  },
  {
   "cell_type": "markdown",
   "id": "585e26ea-1a5e-4f3c-819b-a741f2f4baec",
   "metadata": {
    "jp-MarkdownHeadingCollapsed": true,
    "tags": []
   },
   "source": [
    "### A1.\n",
    "\n",
    "\n",
    "\n",
    "* Python variable names can contain small case letters (a-z), upper case letters (A-Z), numbers (0-9), and underscore (_).\n",
    "\n",
    "* A variable name can’t start with a number.\n",
    "\n",
    "* We can’t use reserved keywords as a variable name.\n",
    "\n",
    "* Python variable can’t contain only digits.\n",
    "\n",
    "* A python variable name can start with an underscore or a letter.\n",
    "\n",
    "* The variable names are case-sensitive.\n",
    "\n",
    "* There is no limit on the length of the variable name."
   ]
  },
  {
   "cell_type": "markdown",
   "id": "41605f5f-537c-421d-b0f5-79fe6d0583a5",
   "metadata": {},
   "source": [
    "# Q2. What will happen if we declare a restricted keyword as a variable?"
   ]
  },
  {
   "cell_type": "markdown",
   "id": "c4432d44-6950-4c47-8ac9-543477a9eb49",
   "metadata": {},
   "source": [
    " ### A2.\n",
    " *          if we use restricted keyword as variable names, We'll get a SyntaxError "
   ]
  },
  {
   "cell_type": "code",
   "execution_count": 8,
   "id": "b8af5f71-e118-40e2-a332-53f5d7c9cb54",
   "metadata": {},
   "outputs": [
    {
     "ename": "SyntaxError",
     "evalue": "invalid syntax (1573976616.py, line 1)",
     "output_type": "error",
     "traceback": [
      "\u001b[0;36m  Cell \u001b[0;32mIn[8], line 1\u001b[0;36m\u001b[0m\n\u001b[0;31m    if = 1000\u001b[0m\n\u001b[0m       ^\u001b[0m\n\u001b[0;31mSyntaxError\u001b[0m\u001b[0;31m:\u001b[0m invalid syntax\n"
     ]
    }
   ],
   "source": [
    "if = 1000\n",
    "print(if)"
   ]
  },
  {
   "cell_type": "markdown",
   "id": "7fd14b5e-4357-4be7-8c5f-f700271d174b",
   "metadata": {},
   "source": [
    "#  Q3. Can we actually declare a string as a variable name?"
   ]
  },
  {
   "cell_type": "markdown",
   "id": "33c2f373-88b3-4233-bf71-6dc320c80824",
   "metadata": {},
   "source": [
    " ### A3.\n",
    "\n",
    " * convert a string to a variable name. For instance, consider that we need to take some user data as input where the user needs to enter some field names and their corresponding values. We will need to convert the field names to a variable so that we can assign values to them."
   ]
  },
  {
   "cell_type": "markdown",
   "id": "a01deb29-0516-4ed4-9455-217fedb3af34",
   "metadata": {},
   "source": [
    "# Q4. Is it possible for us to declare “_” as a variable? If so, then write an example of it."
   ]
  },
  {
   "cell_type": "markdown",
   "id": "d613f226-f84e-499f-8535-4d5d78e48cca",
   "metadata": {},
   "source": [
    "### A4.\n",
    "\n",
    "* yes we can use \"_\" as a variables\n",
    " "
   ]
  },
  {
   "cell_type": "code",
   "execution_count": 18,
   "id": "7928f6b3-e3d2-48ce-874a-0ae27d061d76",
   "metadata": {},
   "outputs": [
    {
     "name": "stdout",
     "output_type": "stream",
     "text": [
      "ans = 10000\n"
     ]
    }
   ],
   "source": [
    "_=5000\n",
    "a=5000\n",
    "print(\"ans =\",_+a)"
   ]
  },
  {
   "cell_type": "markdown",
   "id": "24541ddb-5157-4964-a2df-152bb56d13a3",
   "metadata": {},
   "source": [
    "# Q5. Using an example, explain how the variables in python are dynamic in nature."
   ]
  },
  {
   "cell_type": "markdown",
   "id": "4fd7714c-0d30-4d65-b8ce-09a86154bff0",
   "metadata": {},
   "source": [
    "### A5.\n",
    "* In Python, variables are assigned values using the assignment operator (=). The value assigned to a variable can be of any data type, and the variable can be reassigned a new value at any time. These variables are known as dynamic variables because their values can change dynamically during the execution of a program. This is in contrast to static variables, whose values are fixed and cannot be changed.\n",
    "\n",
    " * For example, the following code creates a variable x and assigns it the value 5:"
   ]
  },
  {
   "cell_type": "code",
   "execution_count": 19,
   "id": "369a68d5-f5b9-49b9-b4ef-934411440e0d",
   "metadata": {},
   "outputs": [
    {
     "name": "stdout",
     "output_type": "stream",
     "text": [
      "5\n"
     ]
    }
   ],
   "source": [
    "x = 5\n",
    "print(x)"
   ]
  },
  {
   "cell_type": "markdown",
   "id": "256731a0-ec89-433b-921e-5582f86c31d8",
   "metadata": {},
   "source": [
    "* Later, the value of x can be changed to a different value, like so:"
   ]
  },
  {
   "cell_type": "code",
   "execution_count": 21,
   "id": "e96af784-a489-448d-8898-68cb608e43b7",
   "metadata": {},
   "outputs": [
    {
     "name": "stdout",
     "output_type": "stream",
     "text": [
      "10\n"
     ]
    }
   ],
   "source": [
    "x = 10 \n",
    "print(x)"
   ]
  },
  {
   "cell_type": "markdown",
   "id": "810ab263-aa7e-4f79-87a8-406733428f04",
   "metadata": {},
   "source": [
    "* In Python, variables do not have a specific data type, they can be reassigned to any type of value."
   ]
  },
  {
   "cell_type": "code",
   "execution_count": null,
   "id": "583c34cd-1ca8-4b08-95ab-b44da1f32c7d",
   "metadata": {},
   "outputs": [],
   "source": []
  },
  {
   "cell_type": "code",
   "execution_count": null,
   "id": "642dc3bf-dce4-4684-a291-4a45ec923078",
   "metadata": {},
   "outputs": [],
   "source": []
  }
 ],
 "metadata": {
  "kernelspec": {
   "display_name": "Python 3 (ipykernel)",
   "language": "python",
   "name": "python3"
  },
  "language_info": {
   "codemirror_mode": {
    "name": "ipython",
    "version": 3
   },
   "file_extension": ".py",
   "mimetype": "text/x-python",
   "name": "python",
   "nbconvert_exporter": "python",
   "pygments_lexer": "ipython3",
   "version": "3.10.8"
  }
 },
 "nbformat": 4,
 "nbformat_minor": 5
}
